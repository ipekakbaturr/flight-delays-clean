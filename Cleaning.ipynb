{
 "cells": [
  {
   "cell_type": "code",
   "execution_count": 19,
   "id": "dfa44843-a466-4c08-893c-17aebfa18069",
   "metadata": {},
   "outputs": [],
   "source": [
    "import pandas as pd"
   ]
  },
  {
   "cell_type": "code",
   "execution_count": 20,
   "id": "7d238505-affd-4b2f-8e63-df73f41fb57a",
   "metadata": {},
   "outputs": [
    {
     "name": "stderr",
     "output_type": "stream",
     "text": [
      "/var/folders/k_/56n9wl_j531_w664x6r2v8l00000gn/T/ipykernel_34495/2882852976.py:1: DtypeWarning: Columns (7,8) have mixed types. Specify dtype option on import or set low_memory=False.\n",
      "  df=pd.read_csv('flights.csv')\n"
     ]
    }
   ],
   "source": [
    "df=pd.read_csv('flights.csv')\n",
    "df = df.sample(n=1000000, random_state=42)"
   ]
  },
  {
   "cell_type": "code",
   "execution_count": 21,
   "id": "22bdc5e6-b678-4a56-8fff-cdd94c736a74",
   "metadata": {},
   "outputs": [
    {
     "data": {
      "text/plain": [
       "Index(['YEAR', 'MONTH', 'DAY', 'DAY_OF_WEEK', 'AIRLINE', 'FLIGHT_NUMBER',\n",
       "       'TAIL_NUMBER', 'ORIGIN_AIRPORT', 'DESTINATION_AIRPORT',\n",
       "       'SCHEDULED_DEPARTURE', 'DEPARTURE_TIME', 'DEPARTURE_DELAY', 'TAXI_OUT',\n",
       "       'WHEELS_OFF', 'SCHEDULED_TIME', 'ELAPSED_TIME', 'AIR_TIME', 'DISTANCE',\n",
       "       'WHEELS_ON', 'TAXI_IN', 'SCHEDULED_ARRIVAL', 'ARRIVAL_TIME',\n",
       "       'ARRIVAL_DELAY', 'DIVERTED', 'CANCELLED', 'CANCELLATION_REASON',\n",
       "       'AIR_SYSTEM_DELAY', 'SECURITY_DELAY', 'AIRLINE_DELAY',\n",
       "       'LATE_AIRCRAFT_DELAY', 'WEATHER_DELAY'],\n",
       "      dtype='object')"
      ]
     },
     "execution_count": 21,
     "metadata": {},
     "output_type": "execute_result"
    }
   ],
   "source": [
    "df.columns"
   ]
  },
  {
   "cell_type": "code",
   "execution_count": 22,
   "id": "23cc7fb5-740a-45c8-8405-82ba99ca5cc2",
   "metadata": {},
   "outputs": [],
   "source": [
    "df=df.drop(['DAY','FLIGHT_NUMBER','SCHEDULED_DEPARTURE','DEPARTURE_TIME','DAY_OF_WEEK','YEAR','DISTANCE','TAXI_IN','TAXI_OUT', 'WHEELS_OFF','WHEELS_ON','SCHEDULED_TIME', 'DIVERTED','TAIL_NUMBER','DESTINATION_AIRPORT','ELAPSED_TIME','ARRIVAL_DELAY','ARRIVAL_TIME'], axis=1)"
   ]
  },
  {
   "cell_type": "code",
   "execution_count": 23,
   "id": "2a775025-d825-4204-bb7c-082dd497ba7b",
   "metadata": {},
   "outputs": [
    {
     "data": {
      "text/html": [
       "<div>\n",
       "<style scoped>\n",
       "    .dataframe tbody tr th:only-of-type {\n",
       "        vertical-align: middle;\n",
       "    }\n",
       "\n",
       "    .dataframe tbody tr th {\n",
       "        vertical-align: top;\n",
       "    }\n",
       "\n",
       "    .dataframe thead th {\n",
       "        text-align: right;\n",
       "    }\n",
       "</style>\n",
       "<table border=\"1\" class=\"dataframe\">\n",
       "  <thead>\n",
       "    <tr style=\"text-align: right;\">\n",
       "      <th></th>\n",
       "      <th>MONTH</th>\n",
       "      <th>AIRLINE</th>\n",
       "      <th>ORIGIN_AIRPORT</th>\n",
       "      <th>DEPARTURE_DELAY</th>\n",
       "      <th>AIR_TIME</th>\n",
       "      <th>SCHEDULED_ARRIVAL</th>\n",
       "      <th>CANCELLED</th>\n",
       "      <th>CANCELLATION_REASON</th>\n",
       "      <th>AIR_SYSTEM_DELAY</th>\n",
       "      <th>SECURITY_DELAY</th>\n",
       "      <th>AIRLINE_DELAY</th>\n",
       "      <th>LATE_AIRCRAFT_DELAY</th>\n",
       "      <th>WEATHER_DELAY</th>\n",
       "    </tr>\n",
       "  </thead>\n",
       "  <tbody>\n",
       "    <tr>\n",
       "      <th>1508570</th>\n",
       "      <td>4</td>\n",
       "      <td>EV</td>\n",
       "      <td>FWA</td>\n",
       "      <td>-5.0</td>\n",
       "      <td>30.0</td>\n",
       "      <td>1436</td>\n",
       "      <td>0</td>\n",
       "      <td>NaN</td>\n",
       "      <td>NaN</td>\n",
       "      <td>NaN</td>\n",
       "      <td>NaN</td>\n",
       "      <td>NaN</td>\n",
       "      <td>NaN</td>\n",
       "    </tr>\n",
       "    <tr>\n",
       "      <th>363270</th>\n",
       "      <td>1</td>\n",
       "      <td>AS</td>\n",
       "      <td>LAS</td>\n",
       "      <td>-12.0</td>\n",
       "      <td>131.0</td>\n",
       "      <td>2145</td>\n",
       "      <td>0</td>\n",
       "      <td>NaN</td>\n",
       "      <td>NaN</td>\n",
       "      <td>NaN</td>\n",
       "      <td>NaN</td>\n",
       "      <td>NaN</td>\n",
       "      <td>NaN</td>\n",
       "    </tr>\n",
       "    <tr>\n",
       "      <th>3003945</th>\n",
       "      <td>7</td>\n",
       "      <td>WN</td>\n",
       "      <td>OAK</td>\n",
       "      <td>-4.0</td>\n",
       "      <td>92.0</td>\n",
       "      <td>820</td>\n",
       "      <td>0</td>\n",
       "      <td>NaN</td>\n",
       "      <td>NaN</td>\n",
       "      <td>NaN</td>\n",
       "      <td>NaN</td>\n",
       "      <td>NaN</td>\n",
       "      <td>NaN</td>\n",
       "    </tr>\n",
       "    <tr>\n",
       "      <th>2291425</th>\n",
       "      <td>5</td>\n",
       "      <td>WN</td>\n",
       "      <td>STL</td>\n",
       "      <td>153.0</td>\n",
       "      <td>85.0</td>\n",
       "      <td>950</td>\n",
       "      <td>0</td>\n",
       "      <td>NaN</td>\n",
       "      <td>0.0</td>\n",
       "      <td>0.0</td>\n",
       "      <td>0.0</td>\n",
       "      <td>152.0</td>\n",
       "      <td>0.0</td>\n",
       "    </tr>\n",
       "    <tr>\n",
       "      <th>2973084</th>\n",
       "      <td>7</td>\n",
       "      <td>UA</td>\n",
       "      <td>IAH</td>\n",
       "      <td>8.0</td>\n",
       "      <td>461.0</td>\n",
       "      <td>1318</td>\n",
       "      <td>0</td>\n",
       "      <td>NaN</td>\n",
       "      <td>NaN</td>\n",
       "      <td>NaN</td>\n",
       "      <td>NaN</td>\n",
       "      <td>NaN</td>\n",
       "      <td>NaN</td>\n",
       "    </tr>\n",
       "  </tbody>\n",
       "</table>\n",
       "</div>"
      ],
      "text/plain": [
       "         MONTH AIRLINE ORIGIN_AIRPORT  DEPARTURE_DELAY  AIR_TIME  \\\n",
       "1508570      4      EV            FWA             -5.0      30.0   \n",
       "363270       1      AS            LAS            -12.0     131.0   \n",
       "3003945      7      WN            OAK             -4.0      92.0   \n",
       "2291425      5      WN            STL            153.0      85.0   \n",
       "2973084      7      UA            IAH              8.0     461.0   \n",
       "\n",
       "         SCHEDULED_ARRIVAL  CANCELLED CANCELLATION_REASON  AIR_SYSTEM_DELAY  \\\n",
       "1508570               1436          0                 NaN               NaN   \n",
       "363270                2145          0                 NaN               NaN   \n",
       "3003945                820          0                 NaN               NaN   \n",
       "2291425                950          0                 NaN               0.0   \n",
       "2973084               1318          0                 NaN               NaN   \n",
       "\n",
       "         SECURITY_DELAY  AIRLINE_DELAY  LATE_AIRCRAFT_DELAY  WEATHER_DELAY  \n",
       "1508570             NaN            NaN                  NaN            NaN  \n",
       "363270              NaN            NaN                  NaN            NaN  \n",
       "3003945             NaN            NaN                  NaN            NaN  \n",
       "2291425             0.0            0.0                152.0            0.0  \n",
       "2973084             NaN            NaN                  NaN            NaN  "
      ]
     },
     "execution_count": 23,
     "metadata": {},
     "output_type": "execute_result"
    }
   ],
   "source": [
    "df.head()"
   ]
  },
  {
   "cell_type": "code",
   "execution_count": 18,
   "id": "f6125d11-0e08-4f0a-beb5-42c74544ec58",
   "metadata": {},
   "outputs": [],
   "source": [
    "df.to_csv(\"flights_cleaned.csv\", index=False)"
   ]
  },
  {
   "cell_type": "code",
   "execution_count": null,
   "id": "7414258e-fd13-448f-bb15-3e5a45c29045",
   "metadata": {},
   "outputs": [],
   "source": []
  }
 ],
 "metadata": {
  "kernelspec": {
   "display_name": "Python 3 (ipykernel)",
   "language": "python",
   "name": "python3"
  },
  "language_info": {
   "codemirror_mode": {
    "name": "ipython",
    "version": 3
   },
   "file_extension": ".py",
   "mimetype": "text/x-python",
   "name": "python",
   "nbconvert_exporter": "python",
   "pygments_lexer": "ipython3",
   "version": "3.12.4"
  }
 },
 "nbformat": 4,
 "nbformat_minor": 5
}
