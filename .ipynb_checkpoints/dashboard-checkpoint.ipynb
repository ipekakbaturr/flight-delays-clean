{
 "cells": [
  {
   "cell_type": "code",
   "execution_count": 5,
   "id": "5a9189ff-a6dc-4fdf-9f56-b88c9244073b",
   "metadata": {},
   "outputs": [
    {
     "name": "stderr",
     "output_type": "stream",
     "text": [
      "/var/folders/k_/56n9wl_j531_w664x6r2v8l00000gn/T/ipykernel_32505/2994444602.py:6: DtypeWarning:\n",
      "\n",
      "Columns (7,8) have mixed types. Specify dtype option on import or set low_memory=False.\n",
      "\n"
     ]
    },
    {
     "data": {
      "text/plain": [
       "DeltaGenerator()"
      ]
     },
     "execution_count": 5,
     "metadata": {},
     "output_type": "execute_result"
    }
   ],
   "source": [
    "import streamlit as st\n",
    "import pandas as pd\n",
    "import plotly.express as px\n",
    "\n",
    "# Load data\n",
    "df = pd.read_csv(\"flight_cleaned.csv\")\n",
    "airport_delay = pd.read_csv(\"airport_delay_with_coords.csv\")  # optional if using map\n",
    "\n",
    "st.title(\"✈️ US Flight Delays and Cancellations\")\n",
    "\n",
    "st.sidebar.header(\"Filter\")\n",
    "selected_airline = st.sidebar.selectbox(\"Select Airline\", df['AIRLINE'].unique())\n",
    "\n",
    "filtered_df = df[df['AIRLINE'] == selected_airline]\n",
    "\n",
    "# 1. Line Chart - Average Monthly Delay\n",
    "st.subheader(\"📈 Average Departure Delay by Month\")\n",
    "monthly = filtered_df.groupby('MONTH')['DEPARTURE_DELAY'].mean().reset_index()\n",
    "fig1 = px.line(monthly, x='MONTH', y='DEPARTURE_DELAY', markers=True)\n",
    "st.plotly_chart(fig1)\n",
    "\n",
    "# 2. Bar Chart - Delay Reasons\n",
    "st.subheader(\"📉 Average Delay Reasons by Airline\")\n",
    "reasons = ['AIR_SYSTEM_DELAY', 'SECURITY_DELAY', 'AIRLINE_DELAY', 'LATE_AIRCRAFT_DELAY','WEATHER_DELAY']\n",
    "df_reason = df.groupby('AIRLINE')[reasons].mean().reset_index()\n",
    "df_reason = df_reason[df_reason['AIRLINE'] == selected_airline]\n",
    "fig2 = px.bar(df_reason.melt(id_vars='AIRLINE'), x='variable', y='value', color='variable')\n",
    "st.plotly_chart(fig2)\n",
    "\n",
    "# 3. Map - Delay by Airport (optional)\n",
    "st.subheader(\"🗺️ Delay Map by Airport\")\n",
    "airport_delay['ABS_DELAY'] = airport_delay['DEPARTURE_DELAY'].abs()\n",
    "fig3 = px.scatter_geo(airport_delay.dropna(subset=['LAT', 'LON', 'ABS_DELAY']),\n",
    "                      lat='LAT', lon='LON', size='ABS_DELAY',\n",
    "                      color='DEPARTURE_DELAY',\n",
    "                      color_continuous_scale='RdYlGn_r',\n",
    "                      scope='usa',\n",
    "                      hover_name='ORIGIN_AIRPORT')\n",
    "st.plotly_chart(fig3)"
   ]
  },
  {
   "cell_type": "code",
   "execution_count": null,
   "id": "6eb0b55f-cd6f-42d4-b0e7-34c24e0a0781",
   "metadata": {},
   "outputs": [],
   "source": []
  }
 ],
 "metadata": {
  "kernelspec": {
   "display_name": "Python 3 (ipykernel)",
   "language": "python",
   "name": "python3"
  },
  "language_info": {
   "codemirror_mode": {
    "name": "ipython",
    "version": 3
   },
   "file_extension": ".py",
   "mimetype": "text/x-python",
   "name": "python",
   "nbconvert_exporter": "python",
   "pygments_lexer": "ipython3",
   "version": "3.12.4"
  }
 },
 "nbformat": 4,
 "nbformat_minor": 5
}
